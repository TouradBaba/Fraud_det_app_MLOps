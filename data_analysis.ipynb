{
 "cells": [
  {
   "cell_type": "markdown",
   "metadata": {
    "id": "hO-rJBhBqBRF"
   },
   "source": [
    "Importing Pandas Library"
   ]
  },
  {
   "cell_type": "code",
   "execution_count": 1,
   "metadata": {
    "id": "JhD5MuZJrGX-",
    "ExecuteTime": {
     "end_time": "2024-02-08T14:46:22.774039Z",
     "start_time": "2024-02-08T14:46:22.255276600Z"
    }
   },
   "outputs": [],
   "source": [
    "import pandas as pd"
   ]
  },
  {
   "cell_type": "code",
   "execution_count": 2,
   "metadata": {
    "id": "5fpUX1ZO0MQQ",
    "ExecuteTime": {
     "end_time": "2024-02-08T14:46:25.255299400Z",
     "start_time": "2024-02-08T14:46:22.776076900Z"
    }
   },
   "outputs": [],
   "source": [
    "# Loading the dataset\n",
    "credit_cards_data =  pd.read_csv('creditcard_2023.csv')"
   ]
  },
  {
   "cell_type": "code",
   "execution_count": 3,
   "metadata": {
    "colab": {
     "base_uri": "https://localhost:8080/",
     "height": 255
    },
    "id": "ONCHoc9wsTeI",
    "outputId": "2eee2c11-f949-4589-b765-33d02e34998e",
    "ExecuteTime": {
     "end_time": "2024-02-08T14:46:25.285806500Z",
     "start_time": "2024-02-08T14:46:25.255299400Z"
    }
   },
   "outputs": [
    {
     "data": {
      "text/plain": "   Time        V1        V2        V3        V4        V5        V6        V7  \\\n0     0 -0.260648 -0.469648  2.496266 -0.083724  0.129681  0.732898  0.519014   \n1     1  0.985100 -0.356045  0.558056 -0.429654  0.277140  0.428605  0.406466   \n2     2 -0.260272 -0.949385  1.728538 -0.457986  0.074062  1.419481  0.743511   \n3     3 -0.152152 -0.508959  1.746840 -1.090178  0.249486  1.143312  0.518269   \n4     4 -0.206820 -0.165280  1.527053 -0.448293  0.106125  0.530549  0.658849   \n\n         V8        V9  ...       V21       V22       V23       V24       V25  \\\n0 -0.130006  0.727159  ... -0.110552  0.217606 -0.134794  0.165959  0.126280   \n1 -0.133118  0.347452  ... -0.194936 -0.605761  0.079469 -0.577395  0.190090   \n2 -0.095576 -0.261297  ... -0.005020  0.702906  0.945045 -1.154666 -0.605564   \n3 -0.065130 -0.205698  ... -0.146927 -0.038212 -0.214048 -1.893131  1.003963   \n4 -0.212660  1.049921  ... -0.106984  0.729727 -0.161666  0.312561 -0.414116   \n\n        V26       V27       V28    Amount  Class  \n0 -0.434824 -0.081230 -0.151045  17982.10      0  \n1  0.296503 -0.248052 -0.064512   6531.37      0  \n2 -0.312895 -0.300258 -0.244718   2513.54      0  \n3 -0.515950 -0.165316  0.048424   5384.44      0  \n4  1.071126  0.023712  0.419117  14278.97      0  \n\n[5 rows x 31 columns]",
      "text/html": "<div>\n<style scoped>\n    .dataframe tbody tr th:only-of-type {\n        vertical-align: middle;\n    }\n\n    .dataframe tbody tr th {\n        vertical-align: top;\n    }\n\n    .dataframe thead th {\n        text-align: right;\n    }\n</style>\n<table border=\"1\" class=\"dataframe\">\n  <thead>\n    <tr style=\"text-align: right;\">\n      <th></th>\n      <th>Time</th>\n      <th>V1</th>\n      <th>V2</th>\n      <th>V3</th>\n      <th>V4</th>\n      <th>V5</th>\n      <th>V6</th>\n      <th>V7</th>\n      <th>V8</th>\n      <th>V9</th>\n      <th>...</th>\n      <th>V21</th>\n      <th>V22</th>\n      <th>V23</th>\n      <th>V24</th>\n      <th>V25</th>\n      <th>V26</th>\n      <th>V27</th>\n      <th>V28</th>\n      <th>Amount</th>\n      <th>Class</th>\n    </tr>\n  </thead>\n  <tbody>\n    <tr>\n      <th>0</th>\n      <td>0</td>\n      <td>-0.260648</td>\n      <td>-0.469648</td>\n      <td>2.496266</td>\n      <td>-0.083724</td>\n      <td>0.129681</td>\n      <td>0.732898</td>\n      <td>0.519014</td>\n      <td>-0.130006</td>\n      <td>0.727159</td>\n      <td>...</td>\n      <td>-0.110552</td>\n      <td>0.217606</td>\n      <td>-0.134794</td>\n      <td>0.165959</td>\n      <td>0.126280</td>\n      <td>-0.434824</td>\n      <td>-0.081230</td>\n      <td>-0.151045</td>\n      <td>17982.10</td>\n      <td>0</td>\n    </tr>\n    <tr>\n      <th>1</th>\n      <td>1</td>\n      <td>0.985100</td>\n      <td>-0.356045</td>\n      <td>0.558056</td>\n      <td>-0.429654</td>\n      <td>0.277140</td>\n      <td>0.428605</td>\n      <td>0.406466</td>\n      <td>-0.133118</td>\n      <td>0.347452</td>\n      <td>...</td>\n      <td>-0.194936</td>\n      <td>-0.605761</td>\n      <td>0.079469</td>\n      <td>-0.577395</td>\n      <td>0.190090</td>\n      <td>0.296503</td>\n      <td>-0.248052</td>\n      <td>-0.064512</td>\n      <td>6531.37</td>\n      <td>0</td>\n    </tr>\n    <tr>\n      <th>2</th>\n      <td>2</td>\n      <td>-0.260272</td>\n      <td>-0.949385</td>\n      <td>1.728538</td>\n      <td>-0.457986</td>\n      <td>0.074062</td>\n      <td>1.419481</td>\n      <td>0.743511</td>\n      <td>-0.095576</td>\n      <td>-0.261297</td>\n      <td>...</td>\n      <td>-0.005020</td>\n      <td>0.702906</td>\n      <td>0.945045</td>\n      <td>-1.154666</td>\n      <td>-0.605564</td>\n      <td>-0.312895</td>\n      <td>-0.300258</td>\n      <td>-0.244718</td>\n      <td>2513.54</td>\n      <td>0</td>\n    </tr>\n    <tr>\n      <th>3</th>\n      <td>3</td>\n      <td>-0.152152</td>\n      <td>-0.508959</td>\n      <td>1.746840</td>\n      <td>-1.090178</td>\n      <td>0.249486</td>\n      <td>1.143312</td>\n      <td>0.518269</td>\n      <td>-0.065130</td>\n      <td>-0.205698</td>\n      <td>...</td>\n      <td>-0.146927</td>\n      <td>-0.038212</td>\n      <td>-0.214048</td>\n      <td>-1.893131</td>\n      <td>1.003963</td>\n      <td>-0.515950</td>\n      <td>-0.165316</td>\n      <td>0.048424</td>\n      <td>5384.44</td>\n      <td>0</td>\n    </tr>\n    <tr>\n      <th>4</th>\n      <td>4</td>\n      <td>-0.206820</td>\n      <td>-0.165280</td>\n      <td>1.527053</td>\n      <td>-0.448293</td>\n      <td>0.106125</td>\n      <td>0.530549</td>\n      <td>0.658849</td>\n      <td>-0.212660</td>\n      <td>1.049921</td>\n      <td>...</td>\n      <td>-0.106984</td>\n      <td>0.729727</td>\n      <td>-0.161666</td>\n      <td>0.312561</td>\n      <td>-0.414116</td>\n      <td>1.071126</td>\n      <td>0.023712</td>\n      <td>0.419117</td>\n      <td>14278.97</td>\n      <td>0</td>\n    </tr>\n  </tbody>\n</table>\n<p>5 rows × 31 columns</p>\n</div>"
     },
     "execution_count": 3,
     "metadata": {},
     "output_type": "execute_result"
    }
   ],
   "source": [
    "# First 5 rows of the dataset\n",
    "credit_cards_data.head()"
   ]
  },
  {
   "cell_type": "code",
   "execution_count": 4,
   "metadata": {
    "colab": {
     "base_uri": "https://localhost:8080/",
     "height": 255
    },
    "id": "yy9FG2a3sn7m",
    "outputId": "69e12a56-4d21-46b6-ea04-489b9de18301",
    "ExecuteTime": {
     "end_time": "2024-02-08T14:46:25.374354500Z",
     "start_time": "2024-02-08T14:46:25.277832500Z"
    }
   },
   "outputs": [
    {
     "data": {
      "text/plain": "          Time        V1        V2        V3        V4        V5        V6  \\\n568625  568625 -0.833437  0.061886 -0.899794  0.904227 -1.002401  0.481454   \n568626  568626 -0.670459 -0.202896 -0.068129 -0.267328 -0.133660  0.237148   \n568627  568627 -0.311997 -0.004095  0.137526 -0.035893 -0.042291  0.121098   \n568628  568628  0.636871 -0.516970 -0.300889 -0.144480  0.131042 -0.294148   \n568629  568629 -0.795144  0.433236 -0.649140  0.374732 -0.244976 -0.603493   \n\n              V7        V8        V9  ...       V21       V22       V23  \\\n568625 -0.370393  0.189694 -0.938153  ...  0.167503  0.419731  1.288249   \n568626 -0.016935 -0.147733  0.483894  ...  0.031874  0.388161 -0.154257   \n568627 -0.070958 -0.019997 -0.122048  ...  0.140788  0.536523 -0.211100   \n568628  0.580568 -0.207723  0.893527  ... -0.060381 -0.195609 -0.175488   \n568629 -0.347613 -0.340814  0.253971  ...  0.534853 -0.291514  0.157303   \n\n             V24       V25       V26       V27       V28    Amount  Class  \n568625 -0.900861  0.560661 -0.006018  3.308968  0.081564   4394.16      1  \n568626 -0.846452 -0.153443  1.961398 -1.528642  1.704306   4653.40      1  \n568627 -0.448909  0.540073 -0.755836 -0.487540 -0.268741  23572.85      1  \n568628 -0.554643 -0.099669 -1.434931 -0.159269 -0.076251  10160.83      1  \n568629  0.931030 -0.349423 -1.090974 -1.575113  0.722936  21493.92      1  \n\n[5 rows x 31 columns]",
      "text/html": "<div>\n<style scoped>\n    .dataframe tbody tr th:only-of-type {\n        vertical-align: middle;\n    }\n\n    .dataframe tbody tr th {\n        vertical-align: top;\n    }\n\n    .dataframe thead th {\n        text-align: right;\n    }\n</style>\n<table border=\"1\" class=\"dataframe\">\n  <thead>\n    <tr style=\"text-align: right;\">\n      <th></th>\n      <th>Time</th>\n      <th>V1</th>\n      <th>V2</th>\n      <th>V3</th>\n      <th>V4</th>\n      <th>V5</th>\n      <th>V6</th>\n      <th>V7</th>\n      <th>V8</th>\n      <th>V9</th>\n      <th>...</th>\n      <th>V21</th>\n      <th>V22</th>\n      <th>V23</th>\n      <th>V24</th>\n      <th>V25</th>\n      <th>V26</th>\n      <th>V27</th>\n      <th>V28</th>\n      <th>Amount</th>\n      <th>Class</th>\n    </tr>\n  </thead>\n  <tbody>\n    <tr>\n      <th>568625</th>\n      <td>568625</td>\n      <td>-0.833437</td>\n      <td>0.061886</td>\n      <td>-0.899794</td>\n      <td>0.904227</td>\n      <td>-1.002401</td>\n      <td>0.481454</td>\n      <td>-0.370393</td>\n      <td>0.189694</td>\n      <td>-0.938153</td>\n      <td>...</td>\n      <td>0.167503</td>\n      <td>0.419731</td>\n      <td>1.288249</td>\n      <td>-0.900861</td>\n      <td>0.560661</td>\n      <td>-0.006018</td>\n      <td>3.308968</td>\n      <td>0.081564</td>\n      <td>4394.16</td>\n      <td>1</td>\n    </tr>\n    <tr>\n      <th>568626</th>\n      <td>568626</td>\n      <td>-0.670459</td>\n      <td>-0.202896</td>\n      <td>-0.068129</td>\n      <td>-0.267328</td>\n      <td>-0.133660</td>\n      <td>0.237148</td>\n      <td>-0.016935</td>\n      <td>-0.147733</td>\n      <td>0.483894</td>\n      <td>...</td>\n      <td>0.031874</td>\n      <td>0.388161</td>\n      <td>-0.154257</td>\n      <td>-0.846452</td>\n      <td>-0.153443</td>\n      <td>1.961398</td>\n      <td>-1.528642</td>\n      <td>1.704306</td>\n      <td>4653.40</td>\n      <td>1</td>\n    </tr>\n    <tr>\n      <th>568627</th>\n      <td>568627</td>\n      <td>-0.311997</td>\n      <td>-0.004095</td>\n      <td>0.137526</td>\n      <td>-0.035893</td>\n      <td>-0.042291</td>\n      <td>0.121098</td>\n      <td>-0.070958</td>\n      <td>-0.019997</td>\n      <td>-0.122048</td>\n      <td>...</td>\n      <td>0.140788</td>\n      <td>0.536523</td>\n      <td>-0.211100</td>\n      <td>-0.448909</td>\n      <td>0.540073</td>\n      <td>-0.755836</td>\n      <td>-0.487540</td>\n      <td>-0.268741</td>\n      <td>23572.85</td>\n      <td>1</td>\n    </tr>\n    <tr>\n      <th>568628</th>\n      <td>568628</td>\n      <td>0.636871</td>\n      <td>-0.516970</td>\n      <td>-0.300889</td>\n      <td>-0.144480</td>\n      <td>0.131042</td>\n      <td>-0.294148</td>\n      <td>0.580568</td>\n      <td>-0.207723</td>\n      <td>0.893527</td>\n      <td>...</td>\n      <td>-0.060381</td>\n      <td>-0.195609</td>\n      <td>-0.175488</td>\n      <td>-0.554643</td>\n      <td>-0.099669</td>\n      <td>-1.434931</td>\n      <td>-0.159269</td>\n      <td>-0.076251</td>\n      <td>10160.83</td>\n      <td>1</td>\n    </tr>\n    <tr>\n      <th>568629</th>\n      <td>568629</td>\n      <td>-0.795144</td>\n      <td>0.433236</td>\n      <td>-0.649140</td>\n      <td>0.374732</td>\n      <td>-0.244976</td>\n      <td>-0.603493</td>\n      <td>-0.347613</td>\n      <td>-0.340814</td>\n      <td>0.253971</td>\n      <td>...</td>\n      <td>0.534853</td>\n      <td>-0.291514</td>\n      <td>0.157303</td>\n      <td>0.931030</td>\n      <td>-0.349423</td>\n      <td>-1.090974</td>\n      <td>-1.575113</td>\n      <td>0.722936</td>\n      <td>21493.92</td>\n      <td>1</td>\n    </tr>\n  </tbody>\n</table>\n<p>5 rows × 31 columns</p>\n</div>"
     },
     "execution_count": 4,
     "metadata": {},
     "output_type": "execute_result"
    }
   ],
   "source": [
    "# Last 5 rows of the dataset\n",
    "credit_cards_data.tail()"
   ]
  },
  {
   "cell_type": "code",
   "execution_count": 5,
   "metadata": {
    "colab": {
     "base_uri": "https://localhost:8080/"
    },
    "id": "aSK8clJZswLM",
    "outputId": "7066bab9-d55f-4ac9-d1ed-df28d04d03b6",
    "ExecuteTime": {
     "end_time": "2024-02-08T14:46:25.480681700Z",
     "start_time": "2024-02-08T14:46:25.298971700Z"
    }
   },
   "outputs": [
    {
     "name": "stdout",
     "output_type": "stream",
     "text": [
      "<class 'pandas.core.frame.DataFrame'>\n",
      "RangeIndex: 568630 entries, 0 to 568629\n",
      "Data columns (total 31 columns):\n",
      " #   Column  Non-Null Count   Dtype  \n",
      "---  ------  --------------   -----  \n",
      " 0   Time    568630 non-null  int64  \n",
      " 1   V1      568630 non-null  float64\n",
      " 2   V2      568630 non-null  float64\n",
      " 3   V3      568630 non-null  float64\n",
      " 4   V4      568630 non-null  float64\n",
      " 5   V5      568630 non-null  float64\n",
      " 6   V6      568630 non-null  float64\n",
      " 7   V7      568630 non-null  float64\n",
      " 8   V8      568630 non-null  float64\n",
      " 9   V9      568630 non-null  float64\n",
      " 10  V10     568630 non-null  float64\n",
      " 11  V11     568630 non-null  float64\n",
      " 12  V12     568630 non-null  float64\n",
      " 13  V13     568630 non-null  float64\n",
      " 14  V14     568630 non-null  float64\n",
      " 15  V15     568630 non-null  float64\n",
      " 16  V16     568630 non-null  float64\n",
      " 17  V17     568630 non-null  float64\n",
      " 18  V18     568630 non-null  float64\n",
      " 19  V19     568630 non-null  float64\n",
      " 20  V20     568630 non-null  float64\n",
      " 21  V21     568630 non-null  float64\n",
      " 22  V22     568630 non-null  float64\n",
      " 23  V23     568630 non-null  float64\n",
      " 24  V24     568630 non-null  float64\n",
      " 25  V25     568630 non-null  float64\n",
      " 26  V26     568630 non-null  float64\n",
      " 27  V27     568630 non-null  float64\n",
      " 28  V28     568630 non-null  float64\n",
      " 29  Amount  568630 non-null  float64\n",
      " 30  Class   568630 non-null  int64  \n",
      "dtypes: float64(29), int64(2)\n",
      "memory usage: 134.5 MB\n"
     ]
    }
   ],
   "source": [
    "# Information about the dataset\n",
    "credit_cards_data.info()"
   ]
  },
  {
   "cell_type": "code",
   "execution_count": 6,
   "metadata": {
    "colab": {
     "base_uri": "https://localhost:8080/"
    },
    "id": "aK0tk4pPs4Iv",
    "outputId": "f4266bdf-8a8f-436e-9974-1b7093d9fa75",
    "ExecuteTime": {
     "end_time": "2024-02-08T14:46:25.519687900Z",
     "start_time": "2024-02-08T14:46:25.367402700Z"
    }
   },
   "outputs": [
    {
     "data": {
      "text/plain": "Time      0\nV1        0\nV2        0\nV3        0\nV4        0\nV5        0\nV6        0\nV7        0\nV8        0\nV9        0\nV10       0\nV11       0\nV12       0\nV13       0\nV14       0\nV15       0\nV16       0\nV17       0\nV18       0\nV19       0\nV20       0\nV21       0\nV22       0\nV23       0\nV24       0\nV25       0\nV26       0\nV27       0\nV28       0\nAmount    0\nClass     0\ndtype: int64"
     },
     "execution_count": 6,
     "metadata": {},
     "output_type": "execute_result"
    }
   ],
   "source": [
    "# The number of missing values in the dataset\n",
    "credit_cards_data.isnull().sum()"
   ]
  },
  {
   "cell_type": "code",
   "execution_count": 7,
   "metadata": {
    "colab": {
     "base_uri": "https://localhost:8080/"
    },
    "id": "f-L9UAhNtbRs",
    "outputId": "47e67fb5-0563-4318-eeb3-656880f3e973",
    "ExecuteTime": {
     "end_time": "2024-02-08T14:46:25.520686400Z",
     "start_time": "2024-02-08T14:46:25.416274700Z"
    }
   },
   "outputs": [
    {
     "data": {
      "text/plain": "Class\n0    284315\n1    284315\nName: count, dtype: int64"
     },
     "execution_count": 7,
     "metadata": {},
     "output_type": "execute_result"
    }
   ],
   "source": [
    "# Distribution of transactions in the datast\n",
    "credit_cards_data['Class'].value_counts()"
   ]
  },
  {
   "cell_type": "markdown",
   "source": [
    "0 --> Normal Transaction\n",
    "\n",
    "1 --> Fraudulent Transaction"
   ],
   "metadata": {
    "collapsed": false
   }
  },
  {
   "cell_type": "code",
   "execution_count": 8,
   "metadata": {
    "id": "VnvHZNzEtyys",
    "ExecuteTime": {
     "end_time": "2024-02-08T14:46:25.660273400Z",
     "start_time": "2024-02-08T14:46:25.431552200Z"
    }
   },
   "outputs": [],
   "source": [
    "# Separating the data for analysis\n",
    "legit = credit_cards_data[credit_cards_data.Class == 0]\n",
    "fraudulent = credit_cards_data[credit_cards_data.Class == 1]"
   ]
  },
  {
   "cell_type": "code",
   "execution_count": 9,
   "metadata": {
    "colab": {
     "base_uri": "https://localhost:8080/"
    },
    "id": "ud10doZiw-R4",
    "outputId": "71ddd362-fcb6-40ca-d179-c5bf38163f72",
    "ExecuteTime": {
     "end_time": "2024-02-08T14:46:25.729857900Z",
     "start_time": "2024-02-08T14:46:25.507671700Z"
    }
   },
   "outputs": [
    {
     "data": {
      "text/plain": "count    284315.000000\nmean      12026.313506\nstd        6929.500715\nmin          50.120000\n25%        6034.540000\n50%       11996.900000\n75%       18040.265000\nmax       24039.930000\nName: Amount, dtype: float64"
     },
     "execution_count": 9,
     "metadata": {},
     "output_type": "execute_result"
    }
   ],
   "source": [
    "# Statistical measures of the legit transactions\n",
    "legit.Amount.describe()"
   ]
  },
  {
   "cell_type": "code",
   "execution_count": 10,
   "metadata": {
    "colab": {
     "base_uri": "https://localhost:8080/"
    },
    "id": "krX3qCCixWN9",
    "outputId": "6383d842-17c2-450f-fc09-98dc31fd8b1e",
    "ExecuteTime": {
     "end_time": "2024-02-08T14:46:25.739857600Z",
     "start_time": "2024-02-08T14:46:25.531964200Z"
    }
   },
   "outputs": [
    {
     "data": {
      "text/plain": "count    284315.000000\nmean      12057.601763\nstd        6909.750891\nmin          50.010000\n25%        6074.640000\n50%       12062.450000\n75%       18033.780000\nmax       24039.930000\nName: Amount, dtype: float64"
     },
     "execution_count": 10,
     "metadata": {},
     "output_type": "execute_result"
    }
   ],
   "source": [
    "# Statistical measures of the fraudulent transactions\n",
    "fraudulent.Amount.describe()"
   ]
  },
  {
   "cell_type": "code",
   "execution_count": 11,
   "metadata": {
    "colab": {
     "base_uri": "https://localhost:8080/",
     "height": 193
    },
    "id": "RLGogCVcxsD3",
    "outputId": "cd6be5d0-e901-41a7-c560-60f89eac9f6c",
    "ExecuteTime": {
     "end_time": "2024-02-08T14:46:25.812511300Z",
     "start_time": "2024-02-08T14:46:25.556719300Z"
    }
   },
   "outputs": [
    {
     "data": {
      "text/plain": "                Time        V1        V2        V3        V4        V5  \\\nClass                                                                    \n0      142442.987714  0.505761 -0.491878  0.682095 -0.735981  0.338639   \n1      426186.012286 -0.505761  0.491878 -0.682095  0.735981 -0.338639   \n\n             V6        V7        V8        V9  ...       V20      V21  \\\nClass                                          ...                      \n0      0.435088  0.491234 -0.144294  0.585522  ... -0.179851 -0.10964   \n1     -0.435088 -0.491234  0.144294 -0.585522  ...  0.179851  0.10964   \n\n            V22       V23       V24       V25       V26       V27       V28  \\\nClass                                                                         \n0     -0.014098 -0.010255  0.130107 -0.061847 -0.071052 -0.214002 -0.102024   \n1      0.014098  0.010255 -0.130107  0.061847  0.071052  0.214002  0.102024   \n\n             Amount  \nClass                \n0      12026.313506  \n1      12057.601763  \n\n[2 rows x 30 columns]",
      "text/html": "<div>\n<style scoped>\n    .dataframe tbody tr th:only-of-type {\n        vertical-align: middle;\n    }\n\n    .dataframe tbody tr th {\n        vertical-align: top;\n    }\n\n    .dataframe thead th {\n        text-align: right;\n    }\n</style>\n<table border=\"1\" class=\"dataframe\">\n  <thead>\n    <tr style=\"text-align: right;\">\n      <th></th>\n      <th>Time</th>\n      <th>V1</th>\n      <th>V2</th>\n      <th>V3</th>\n      <th>V4</th>\n      <th>V5</th>\n      <th>V6</th>\n      <th>V7</th>\n      <th>V8</th>\n      <th>V9</th>\n      <th>...</th>\n      <th>V20</th>\n      <th>V21</th>\n      <th>V22</th>\n      <th>V23</th>\n      <th>V24</th>\n      <th>V25</th>\n      <th>V26</th>\n      <th>V27</th>\n      <th>V28</th>\n      <th>Amount</th>\n    </tr>\n    <tr>\n      <th>Class</th>\n      <th></th>\n      <th></th>\n      <th></th>\n      <th></th>\n      <th></th>\n      <th></th>\n      <th></th>\n      <th></th>\n      <th></th>\n      <th></th>\n      <th></th>\n      <th></th>\n      <th></th>\n      <th></th>\n      <th></th>\n      <th></th>\n      <th></th>\n      <th></th>\n      <th></th>\n      <th></th>\n      <th></th>\n    </tr>\n  </thead>\n  <tbody>\n    <tr>\n      <th>0</th>\n      <td>142442.987714</td>\n      <td>0.505761</td>\n      <td>-0.491878</td>\n      <td>0.682095</td>\n      <td>-0.735981</td>\n      <td>0.338639</td>\n      <td>0.435088</td>\n      <td>0.491234</td>\n      <td>-0.144294</td>\n      <td>0.585522</td>\n      <td>...</td>\n      <td>-0.179851</td>\n      <td>-0.10964</td>\n      <td>-0.014098</td>\n      <td>-0.010255</td>\n      <td>0.130107</td>\n      <td>-0.061847</td>\n      <td>-0.071052</td>\n      <td>-0.214002</td>\n      <td>-0.102024</td>\n      <td>12026.313506</td>\n    </tr>\n    <tr>\n      <th>1</th>\n      <td>426186.012286</td>\n      <td>-0.505761</td>\n      <td>0.491878</td>\n      <td>-0.682095</td>\n      <td>0.735981</td>\n      <td>-0.338639</td>\n      <td>-0.435088</td>\n      <td>-0.491234</td>\n      <td>0.144294</td>\n      <td>-0.585522</td>\n      <td>...</td>\n      <td>0.179851</td>\n      <td>0.10964</td>\n      <td>0.014098</td>\n      <td>0.010255</td>\n      <td>-0.130107</td>\n      <td>0.061847</td>\n      <td>0.071052</td>\n      <td>0.214002</td>\n      <td>0.102024</td>\n      <td>12057.601763</td>\n    </tr>\n  </tbody>\n</table>\n<p>2 rows × 30 columns</p>\n</div>"
     },
     "execution_count": 11,
     "metadata": {},
     "output_type": "execute_result"
    }
   ],
   "source": [
    "# Compare the values of both transactions\n",
    "credit_cards_data.groupby('Class').mean()"
   ]
  }
 ],
 "metadata": {
  "colab": {
   "provenance": []
  },
  "kernelspec": {
   "display_name": "Python 3 (ipykernel)",
   "language": "python",
   "name": "python3"
  },
  "language_info": {
   "codemirror_mode": {
    "name": "ipython",
    "version": 3
   },
   "file_extension": ".py",
   "mimetype": "text/x-python",
   "name": "python",
   "nbconvert_exporter": "python",
   "pygments_lexer": "ipython3",
   "version": "3.10.9"
  }
 },
 "nbformat": 4,
 "nbformat_minor": 1
}
